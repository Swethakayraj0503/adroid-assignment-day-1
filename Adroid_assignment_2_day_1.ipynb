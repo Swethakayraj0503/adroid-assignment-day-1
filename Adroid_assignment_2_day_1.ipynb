{
  "nbformat": 4,
  "nbformat_minor": 0,
  "metadata": {
    "colab": {
      "provenance": []
    },
    "kernelspec": {
      "name": "python3",
      "display_name": "Python 3"
    },
    "language_info": {
      "name": "python"
    }
  },
  "cells": [
    {
      "cell_type": "code",
      "execution_count": 3,
      "metadata": {
        "colab": {
          "base_uri": "https://localhost:8080/"
        },
        "id": "hAkROJftSTKA",
        "outputId": "58f2221e-c576-4980-c6c8-4710cd3f4886"
      },
      "outputs": [
        {
          "output_type": "stream",
          "name": "stdout",
          "text": [
            "1. Write a python program to sort the list of heterogeneous data.\n",
            "e.g. L = [\"Ram\", 1, \"Shyam\", 2, \"Aman\", 3]\n",
            "print(L)\n",
            "L.sort()\n",
            "print(L)\n",
            "Above code gives error. Correct it.\n",
            "\n",
            "Original List: ['Ram', 1, 'Shyam', 2, 'Aman', 3]\n",
            "Sorted List: [1, 2, 3, 'Aman', 'Ram', 'Shyam']\n"
          ]
        }
      ],
      "source": [
        "print('1. Write a python program to sort the list of heterogeneous data.')\n",
        "print('e.g. L = [\"Ram\", 1, \"Shyam\", 2, \"Aman\", 3]')\n",
        "print('print(L)')\n",
        "print('L.sort()')\n",
        "print('print(L)')\n",
        "print('Above code gives error. Correct it.')\n",
        "print()\n",
        "\n",
        "L = [\"Ram\", 1, \"Shyam\", 2, \"Aman\", 3]\n",
        "print(\"Original List:\", L)\n",
        "L.sort(key=str)\n",
        "print(\"Sorted List:\", L)\n"
      ]
    },
    {
      "cell_type": "code",
      "source": [],
      "metadata": {
        "id": "YX-DQ2xhSuWG"
      },
      "execution_count": null,
      "outputs": []
    }
  ]
}